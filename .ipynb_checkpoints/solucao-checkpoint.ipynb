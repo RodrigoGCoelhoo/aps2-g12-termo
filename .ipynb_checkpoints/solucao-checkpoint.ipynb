{
 "cells": [
  {
   "cell_type": "code",
   "execution_count": 1,
   "id": "b55ad3c0",
   "metadata": {},
   "outputs": [],
   "source": [
    "import matplotlib.pyplot as plt\n",
    "from mpl_toolkits.axes_grid1 import make_axes_locatable\n",
    "from math import *\n",
    "import numpy as np"
   ]
  },
  {
   "cell_type": "markdown",
   "id": "6beeb049",
   "metadata": {},
   "source": [
    "## Objetivos: \n",
    "\n",
    "- Gerar um gráfico Temp x Posição com resultado numérico\n",
    "- Gerar um grafico Temp x Posição com resultado analítico"
   ]
  },
  {
   "cell_type": "markdown",
   "id": "cac7191c",
   "metadata": {},
   "source": [
    "## Solução numérica"
   ]
  },
  {
   "cell_type": "code",
   "execution_count": 14,
   "id": "b0ed208f",
   "metadata": {},
   "outputs": [],
   "source": [
    "def temp_dissipador(\n",
    "    ro,               # Densidade do material []\n",
    "    c,                # calor especifico []\n",
    "    k,                # Condutividade t]ermica []\n",
    "    h,                # Coeficiente de transf por conveccao\n",
    "    t_amb,            # Temperatura ambiente\n",
    "    t_base,           # Temperatura da base\n",
    "    r,                # Raio da base\n",
    "    l,                # Comprimento do dissipador [m]\n",
    "    delta_x,          # Delta x\n",
    "    tempo_simulacao   # Tempo de simulacao\n",
    "):\n",
    "\n",
    "    t_sup = 0\n",
    "    P = 2 * pi * r    # Perimetro\n",
    "    A = pi * r**2     # Area\n",
    "    alpha = k / (c * ro)\n",
    "    delta_t = delta_x**2 / (alpha * (h*P*delta_x**2/(k*A) + 2))*0.90\n",
    "    nx = int(l/delta_x)\n",
    "\n",
    "    matrix = np.zeros(nx)\n",
    "    matrix[:] = t_sup\n",
    "    matrix[0] = t_base\n",
    "    matrix[-1] = 25\n",
    "    \n",
    "    matrix_list = [matrix]\n",
    "    \n",
    "    # Main loop\n",
    "\n",
    "    # Tempo\n",
    "    for t in range(1, int(tempo_simulacao / delta_t)):\n",
    "        \n",
    "        matrix = np.zeros(nx)\n",
    "        matrix[:] = t_sup\n",
    "        matrix[0] = t_base\n",
    "        matrix[-1] = 25\n",
    "        \n",
    "        # Colunas\n",
    "        for i in range(1, nx-1):\n",
    "\n",
    "            temp_atual = matrix_list[t-1][i]\n",
    "            temp_atual_x_mais_um = matrix_list[t-1][i + 1]\n",
    "            temp_atual_x_menos_um = matrix_list[t-1][i - 1]\n",
    "            \n",
    "            tempo_espaco = (temp_atual_x_mais_um - 2*temp_atual + temp_atual_x_menos_um) / delta_x**2\n",
    "            conv = h*P*(temp_atual - t_amb)/(k*A)\n",
    "\n",
    "            conta = temp_atual + alpha*delta_t*(tempo_espaco - conv)\n",
    "            \n",
    "            matrix[i] = conta\n",
    "        \n",
    "        matrix_list.append(matrix)\n",
    "        \n",
    "    return matrix_list\n"
   ]
  },
  {
   "cell_type": "code",
   "execution_count": 15,
   "id": "cd65ad2f",
   "metadata": {},
   "outputs": [],
   "source": [
    "l = 0.3               # Comprimento do dissipador [m]\n",
    "ro = 2700             # Densidade do material [kg/m^3]\n",
    "tol = 1e-10           # Tolerância\n",
    "k = 180               # Condutividade térmica [W/mK]\n",
    "c = 896               # Calor especifico [J/KgK]\n",
    "t_amb = 50            # Temperatura amb [C]\n",
    "t_base = 100          # Temperatura da base [C]\n",
    "h = 50                # coeficiente de transferência de calor por convecção [W/m^2K]\n",
    "r = 0.1               # Raio [m]\n",
    "delta_x = 1e-2        # Delta X\n",
    "tempo_simulacao = 10000 # [s]\n",
    "\n",
    "lista = temp_dissipador(\n",
    "    ro,\n",
    "    c,\n",
    "    k,\n",
    "    h,\n",
    "    t_amb,\n",
    "    t_base,\n",
    "    r,\n",
    "    l,                \n",
    "    delta_x,\n",
    "    tempo_simulacao\n",
    ")\n"
   ]
  },
  {
   "cell_type": "code",
   "execution_count": 16,
   "id": "0e62d177",
   "metadata": {},
   "outputs": [],
   "source": [
    "#lista[-1]"
   ]
  },
  {
   "cell_type": "code",
   "execution_count": 17,
   "id": "e355a3ac",
   "metadata": {},
   "outputs": [
    {
     "data": {
      "image/png": "[encoded data removed]",
      "text/plain": [
       "<Figure size 432x288 with 1 Axes>"
      ]
     },
     "metadata": {
      "needs_background": "light"
     },
     "output_type": "display_data"
    }
   ],
   "source": [
    "plt.plot(range(len(lista[-1])), lista[-1])\n",
    "plt.show()"
   ]
  },
  {
   "cell_type": "code",
   "execution_count": null,
   "id": "5ac6f3a6",
   "metadata": {},
   "outputs": [],
   "source": [
    "lista[-1][-2]"
   ]
  },
  {
   "cell_type": "markdown",
   "id": "543e82b8",
   "metadata": {},
   "source": [
    "## Solucao analítica"
   ]
  },
  {
   "cell_type": "code",
   "execution_count": 2,
   "id": "12998309",
   "metadata": {},
   "outputs": [],
   "source": [
    "# Parâmetros\n",
    "t_ext = 25    # Temperatura superfície (K)\n",
    "t_base = 100  # Temp\n",
    "t_amb = 50    # Temperatura ambiente (K)\n",
    "r = 0.1             # Raio aleta (m)\n",
    "L = 0.3             # Comprimento aleta (m)\n",
    "h = 50              # Coeficiente de transferência de calor (W/m2/K)\n",
    "k = 180             # Condutividade térmica do Alumínio-2014 (W/mK)"
   ]
  },
  {
   "cell_type": "code",
   "execution_count": 9,
   "id": "c4696bd2",
   "metadata": {},
   "outputs": [],
   "source": [
    "# Support functions\n",
    "\n",
    "def get_P(R):\n",
    "    return pi*R*2\n",
    "\n",
    "def get_A(R):\n",
    "    return pi*R**2\n",
    "\n",
    "def get_m(h, P, k, A):\n",
    "    return sqrt(h*P/k/A)\n",
    "\n",
    "def get_M(theta_b, h, P, k, A):\n",
    "    return theta_b*sqrt(h*P*k*A)\n",
    "\n",
    "def heat_transf_rate_A(m,L,M,h):\n",
    "    \n",
    "    numerador = cosh(m*L) - t_ext/t_base\n",
    "    denominador = sinh(m*L)\n",
    "    \n",
    "    return M*numerador/denominador\n",
    "\n",
    "def get_temp_distrib(m, L, x):\n",
    "    \n",
    "    numerador = (t_ext/t_base)*sinh(m*x) + sinh(m*(L-x))\n",
    "    denominador = sinh(m*L)\n",
    "    \n",
    "    return numerador/denominador\n",
    "\n",
    "def get_T_L(t_amb, t_ext, temp_distrib):\n",
    "    return temp_distrib*(t_ext - t_amb) + t_amb\n",
    "    \n",
    "def get_effectiviness(q_a, h, Ab, theta_b):\n",
    "    return q_a / (h*Ab*theta_b)\n",
    "\n",
    "def get_efficience(q_a, h, As, theta_b):\n",
    "    return q_a / (h*As*theta_b)"
   ]
  },
  {
   "cell_type": "code",
   "execution_count": 10,
   "id": "b411c184",
   "metadata": {},
   "outputs": [
    {
     "name": "stdout",
     "output_type": "stream",
     "text": [
      "Temperatura na extremidade da aleta: 43.75 C\n"
     ]
    }
   ],
   "source": [
    "P = get_P(r)              # Perímetro\n",
    "A = get_A(r)              # Área\n",
    "theta_b = t_ext - t_amb   # Dif temp.\n",
    "\n",
    "m_q1 = get_m(h, P, k, A)\n",
    "M_q1 = get_M(theta_b, h, P, k, A)\n",
    "q_q1 = heat_transf_rate_A(m_q1, L, M_q1, h)\n",
    "\n",
    "temp_distrib = get_temp_distrib(m_q1, L, L)\n",
    "\n",
    "T_L = get_T_L(t_amb, t_ext, temp_distrib)\n",
    "\n",
    "print(f\"Temperatura na extremidade da aleta: {round(T_L, 2)} C\")"
   ]
  },
  {
   "cell_type": "code",
   "execution_count": 18,
   "id": "a0596e9b",
   "metadata": {},
   "outputs": [],
   "source": [
    "lista_analitica = [ get_T_L(t_amb, t_ext, get_temp_distrib(m_q1, L, val)) for val in np.arange(0, L, 1e-3) ]\n",
    "lista_analitica[0] = 100\n",
    "lista_analitica[-1] = 25"
   ]
  },
  {
   "cell_type": "code",
   "execution_count": 19,
   "id": "9843f10a",
   "metadata": {},
   "outputs": [
    {
     "data": {
      "text/plain": [
       "[]"
      ]
     },
     "execution_count": 19,
     "metadata": {},
     "output_type": "execute_result"
    },
    {
     "data": {
      "image/png": "[encoded data removed]",
      "text/plain": [
       "<Figure size 432x288 with 1 Axes>"
      ]
     },
     "metadata": {
      "needs_background": "light"
     },
     "output_type": "display_data"
    }
   ],
   "source": [
    "plt.plot(range(len(lista_analitica)), lista_analitica)\n",
    "plt.plot()"
   ]
  },
  {
   "cell_type": "code",
   "execution_count": null,
   "id": "f107f5b9",
   "metadata": {},
   "outputs": [],
   "source": []
  }
 ],
 "metadata": {
  "kernelspec": {
   "display_name": "Python 3 (ipykernel)",
   "language": "python",
   "name": "python3"
  },
  "language_info": {
   "codemirror_mode": {
    "name": "ipython",
    "version": 3
   },
   "file_extension": ".py",
   "mimetype": "text/x-python",
   "name": "python",
   "nbconvert_exporter": "python",
   "pygments_lexer": "ipython3",
   "version": "3.9.7"
  }
 },
 "nbformat": 4,
 "nbformat_minor": 5
}
