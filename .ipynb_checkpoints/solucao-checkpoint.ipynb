{
 "cells": [
  {
   "cell_type": "code",
   "execution_count": 1,
   "id": "5c1963b1",
   "metadata": {},
   "outputs": [],
   "source": [
    "import matplotlib.pyplot as plt\n",
    "from mpl_toolkits.axes_grid1 import make_axes_locatable\n",
    "from math import *\n",
    "import numpy as np"
   ]
  },
  {
   "cell_type": "markdown",
   "id": "dced2941",
   "metadata": {},
   "source": [
    "## Objetivos: \n",
    "\n",
    "- Gerar um gráfico Temp x Posição com resultado numérico\n",
    "- Gerar um grafico Temp x Posição com resultado analítico"
   ]
  },
  {
   "cell_type": "code",
   "execution_count": 12,
   "id": "a3b835ab",
   "metadata": {},
   "outputs": [],
   "source": [
    "def temp_dissipador(\n",
    "    ro,               # Densidade do material []\n",
    "    c,                # calor especifico []\n",
    "    k,                # Condutividade t]ermica []\n",
    "    h,                # Coeficiente de transf por conveccao\n",
    "    t_fluido,         # Temperatura fluido\n",
    "    t_base,           # Temperatura da base\n",
    "    r,                # Raio da base\n",
    "    l,                # Comprimento do dissipador [m]\n",
    "    delta_x,          # Delta x\n",
    "    tempo_simulacao   # Tempo de simulacao\n",
    "):\n",
    "    \n",
    "    P = 2 * pi * r    # Perimetro\n",
    "    A = pi * r**2     # Area\n",
    "    alpha = k / (c * ro)\n",
    "    delta_t = delta_x**2 / (alpha * (h*P*delta_x**2/(k*A) + 2))\n",
    "    nx = int(l/delta_x)\n",
    "\n",
    "    matrix = np.zeros(nx)\n",
    "    matrix[:] = 25\n",
    "    matrix[0] = t_base\n",
    "    \n",
    "    matrix_list = [matrix]\n",
    "    \n",
    "    # Main loop\n",
    "\n",
    "    # Tempo\n",
    "    for t in range(1, int(tempo_simulacao / delta_t)):\n",
    "        \n",
    "        matrix = np.zeros(nx)\n",
    "        matrix[:] = 25\n",
    "        matrix[0] = t_base\n",
    "        \n",
    "        # Linhas\n",
    "        for i in range(1, nx-1):\n",
    "\n",
    "            temp_atual = matrix_list[t-1][i]\n",
    "            temp_atual_x_mais_um = matrix_list[t-1][i + 1]\n",
    "            temp_atual_x_menos_um = matrix_list[t-1][i - 1]\n",
    "\n",
    "            \n",
    "            tempo_espaco = (temp_atual_x_mais_um - 2*temp_atual + temp_atual_x_menos_um) / delta_x**2\n",
    "            conv = h*P/(k*A)*(temp_atual - t_fluido)\n",
    "\n",
    "            conta = temp_atual + alpha*delta_t*(tempo_espaco - conv)\n",
    "            \n",
    "            matrix[i] = conta\n",
    "        \n",
    "        matrix_list.append(matrix)\n",
    "        \n",
    "    return matrix_list\n"
   ]
  },
  {
   "cell_type": "code",
   "execution_count": 14,
   "id": "8d0d88b5",
   "metadata": {},
   "outputs": [],
   "source": [
    "l = 3           # Comprimento do dissipador [m]\n",
    "ro = 2700       # Densidade do material [kg/m^3]\n",
    "tol = 1e-10     # Tolerância\n",
    "k = 180         # Condutividade térmica [W/mK]\n",
    "c = 896         # Calor especifico [J/KgK]\n",
    "temp_sup = 25   # Temperatura na extremidade [C]\n",
    "t_base = 100    # Temperatura da base [C]\n",
    "t_amb = 50      # Temperatrua amb [C]\n",
    "h = 50          # coeficiente de transferência de calor por convecção [W/m^2K]\n",
    "r = 0.2\n",
    "delta_x = 1e-3\n",
    "tempo_simulacao = 10\n",
    "\n",
    "lista = temp_dissipador(\n",
    "    ro,\n",
    "    c,\n",
    "    k,\n",
    "    h,\n",
    "    t_amb,\n",
    "    t_base,\n",
    "    r,\n",
    "    l,                \n",
    "    delta_x,\n",
    "    tempo_simulacao\n",
    ")"
   ]
  },
  {
   "cell_type": "code",
   "execution_count": 15,
   "id": "01e75333",
   "metadata": {},
   "outputs": [
    {
     "data": {
      "text/plain": [
       "array([100.        ,  98.44794451,  96.89602503, ...,  25.00413362,\n",
       "        25.00210081,  25.        ])"
      ]
     },
     "execution_count": 15,
     "metadata": {},
     "output_type": "execute_result"
    }
   ],
   "source": [
    "lista[-1]"
   ]
  },
  {
   "cell_type": "code",
   "execution_count": 16,
   "id": "acd636e8",
   "metadata": {},
   "outputs": [
    {
     "data": {
      "image/png": "[encoded data removed]",
      "text/plain": [
       "<Figure size 432x288 with 1 Axes>"
      ]
     },
     "metadata": {
      "needs_background": "light"
     },
     "output_type": "display_data"
    }
   ],
   "source": [
    "plt.plot(range(len(lista[-1])), lista[-1])\n",
    "plt.show()"
   ]
  },
  {
   "cell_type": "code",
   "execution_count": 17,
   "id": "52fd0c3f",
   "metadata": {},
   "outputs": [
    {
     "data": {
      "image/png": "[encoded data removed]",
      "text/plain": [
       "<Figure size 432x288 with 1 Axes>"
      ]
     },
     "metadata": {
      "needs_background": "light"
     },
     "output_type": "display_data"
    }
   ],
   "source": [
    "plt.plot(range(len(lista[-1])), lista[0])\n",
    "plt.show()"
   ]
  },
  {
   "cell_type": "code",
   "execution_count": null,
   "id": "70a1bb59",
   "metadata": {},
   "outputs": [],
   "source": [
    "plt.plot(range(len(lista[-1])), lista[1])\n",
    "plt.show()"
   ]
  },
  {
   "cell_type": "code",
   "execution_count": null,
   "id": "3069afba",
   "metadata": {},
   "outputs": [],
   "source": []
  }
 ],
 "metadata": {
  "kernelspec": {
   "display_name": "Python 3 (ipykernel)",
   "language": "python",
   "name": "python3"
  },
  "language_info": {
   "codemirror_mode": {
    "name": "ipython",
    "version": 3
   },
   "file_extension": ".py",
   "mimetype": "text/x-python",
   "name": "python",
   "nbconvert_exporter": "python",
   "pygments_lexer": "ipython3",
   "version": "3.9.7"
  }
 },
 "nbformat": 4,
 "nbformat_minor": 5
}
